{
 "cells": [
  {
   "cell_type": "code",
   "execution_count": 1,
   "id": "92aca5ef-701f-4b6d-8b57-3e357c717058",
   "metadata": {},
   "outputs": [],
   "source": [
    "# import torch\n",
    "# import torch.nn.functional as F\n",
    "# import matplotlib.pyplot as plt\n",
    "# import numpy as np\n",
    "# from optimizer_loss import *\n",
    "\n",
    "# # Set random seed for reproducibility\n",
    "# torch.manual_seed(42)\n",
    "\n",
    "# # Create fake data\n",
    "# num_samples = 100\n",
    "# num_classes = 5\n",
    "\n",
    "# logits = torch.randn(num_samples, num_classes)\n",
    "# labels = torch.randint(0, 2, (num_samples, num_classes)).float()\n",
    "\n",
    "# # Instantiate the CrossEntropyLossMultiLabel\n",
    "# loss_fn = CrossEntropyLossMultiLabel()\n",
    "\n",
    "# # Calculate the loss\n",
    "# loss = loss_fn(logits, labels)\n",
    "\n",
    "# # Plot the sigmoid function\n",
    "# def sigmoid(x):\n",
    "#     return 1 / (1 + np.exp(-x))\n",
    "\n",
    "# logits_range = np.linspace(-5, 5, 100)\n",
    "# sigmoid_values = sigmoid(logits_range)\n",
    "\n",
    "# plt.figure(figsize=(10, 6))\n",
    "\n",
    "# # Plot sigmoid function\n",
    "# plt.subplot(2, 1, 1)\n",
    "# plt.plot(logits_range, sigmoid_values, label='Sigmoid Function')\n",
    "# plt.title('Sigmoid Activation Function')\n",
    "# plt.xlabel('Logits')\n",
    "# plt.ylabel('Sigmoid(Logits)')\n",
    "# plt.legend()\n",
    "\n",
    "# # Plot the binary cross-entropy loss\n",
    "# plt.subplot(2, 1, 2)\n",
    "# plt.scatter(logits.view(-1).detach().numpy(), labels.view(-1).detach().numpy(), label='True Labels')\n",
    "# plt.scatter(logits.view(-1).detach().numpy(), torch.sigmoid(logits).view(-1).detach().numpy(), label='Sigmoid(Logits)')\n",
    "# plt.title('Binary Cross-Entropy Loss Calculation')\n",
    "# plt.xlabel('Logits')\n",
    "# plt.ylabel('Loss')\n",
    "# plt.legend()\n",
    "\n",
    "# plt.tight_layout()\n",
    "# plt.show()\n"
   ]
  },
  {
   "cell_type": "code",
   "execution_count": 2,
   "id": "77443707-354b-4dfe-8c8b-29c02017ec0d",
   "metadata": {},
   "outputs": [],
   "source": [
    "# from sklearn.metrics import log_loss"
   ]
  },
  {
   "cell_type": "code",
   "execution_count": 3,
   "id": "da3781af-afe6-428a-9ae5-6a46da1f7567",
   "metadata": {},
   "outputs": [],
   "source": [
    "# lo = log_loss([1,0,0,0], [0.8,0.1,0.1, 0])\n",
    "# lo"
   ]
  },
  {
   "cell_type": "code",
   "execution_count": 4,
   "id": "598bf45c-1cbf-4359-97c5-a4b6260084fd",
   "metadata": {},
   "outputs": [],
   "source": [
    "# import math\n",
    "\n",
    "# -(math.log2(0.8))"
   ]
  },
  {
   "cell_type": "code",
   "execution_count": 5,
   "id": "fb3ab8b6-d121-4aec-a532-b8d1ef9da74a",
   "metadata": {},
   "outputs": [],
   "source": [
    "# # plot of distributions\n",
    "# from matplotlib import pyplot\n",
    "# # define distributions\n",
    "# events = ['red', 'green', 'blue']\n",
    "# p = [0.10, 0.40, 0.50]\n",
    "# q = [0.80, 0.15, 0.05]\n",
    "# print('P=%.3f Q=%.3f' % (sum(p), sum(q)))\n",
    "# # plot first distribution\n",
    "# pyplot.subplot(2,1,1)\n",
    "# pyplot.bar(events, p)\n",
    "# # plot second distribution\n",
    "# pyplot.subplot(2,1,2)\n",
    "# pyplot.bar(events, q)\n",
    "# # show the plot\n",
    "# pyplot.show()"
   ]
  },
  {
   "cell_type": "code",
   "execution_count": 6,
   "id": "61d5ced4-a19b-4168-9dc1-25c07cf245ca",
   "metadata": {},
   "outputs": [
    {
     "name": "stdout",
     "output_type": "stream",
     "text": [
      "[-4 -2  0  2  4]\n",
      "[0.01798621 0.11920292 0.5        0.88079708 0.98201379]\n"
     ]
    },
    {
     "data": {
      "image/png": "[encoded data removed]",
      "text/plain": [
       "<Figure size 432x288 with 1 Axes>"
      ]
     },
     "metadata": {
      "needs_background": "light"
     },
     "output_type": "display_data"
    }
   ],
   "source": [
    "import numpy as np\n",
    "import matplotlib.pyplot as plt\n",
    "\n",
    "def sigmoid(z):\n",
    "    return 1 / (1 + np.exp(-z))\n",
    "\n",
    "# Tạo dữ liệu và vẽ đồ thị\n",
    "x = np.linspace(-7, 7, 500)\n",
    "y = sigmoid(x)\n",
    "# Thêm một số điểm ví dụ\n",
    "example_points = np.array([-4, -2, 0, 2, 4])\n",
    "print(example_points)\n",
    "print(sigmoid(example_points))\n",
    "\n",
    "plt.plot(x, y, label='Sigmoid Function')\n",
    "plt.scatter(example_points, sigmoid(example_points), color='red', label='Example Points')\n",
    "\n",
    "plt.title('Sigmoid Activation Function')\n",
    "plt.xlabel('Input')\n",
    "plt.ylabel('Output')\n",
    "plt.axhline(0, color='black',linewidth=0.5)\n",
    "plt.axvline(0, color='black',linewidth=0.5)\n",
    "plt.grid(color='gray', linestyle='--', linewidth=0.5)\n",
    "plt.legend()\n",
    "plt.show()\n"
   ]
  },
  {
   "cell_type": "code",
   "execution_count": 7,
   "id": "68ff189d-2029-4788-b1d4-27ef9b1523a3",
   "metadata": {},
   "outputs": [],
   "source": [
    "# import pyexcel as p\n",
    "# ccs_insight2 = p.Sheet()\n",
    "# ccs_insight2.name = \"Worldwide Mobile Phone Shipments (Billions), 2017-2021\"\n",
    "# ccs_insight2.ndjson = \"\"\"\n",
    "#                     {\"Compound\": [\"R.T.\", \"QIon\", \"Response\", \"Conc\", \"Units\", \"Dev(Min)\"]}\n",
    "#                     {\"Internal Standards\": [\"\", \"\", \"\", \"\", \"\", \"\"]}\n",
    "#                     {\"1) Toluol D8\": [\"\", \"\", \"\", \"\", \"\", \"\"]}\n",
    "#                     \"\"\".strip()\n",
    "# ccs_insight2"
   ]
  },
  {
   "cell_type": "code",
   "execution_count": 8,
   "id": "13d4ee2b-afe8-46cf-a072-0a63eed3f087",
   "metadata": {},
   "outputs": [
    {
     "name": "stdout",
     "output_type": "stream",
     "text": [
      "tensor([0.4938, 0.6065, 0.6604, 0.4602, 0.5011])\n"
     ]
    },
    {
     "data": {
      "text/plain": [
       "tensor(0.5815)"
      ]
     },
     "execution_count": 8,
     "metadata": {},
     "output_type": "execute_result"
    }
   ],
   "source": [
    "import torch\n",
    "import torch.nn as nn\n",
    "import torch.nn.functional as F\n",
    "import math\n",
    "\n",
    "logits = torch.tensor([-0.025, 0.4325, 0.665, -0.1594, 0.0043], dtype=torch.float)\n",
    "labels = torch.tensor([0,1,1,0,0], dtype=torch.float)\n",
    "\n",
    "logits_sigmoid = torch.sigmoid(logits)\n",
    "print(logits_sigmoid)\n",
    "\n",
    "loss = F.binary_cross_entropy(logits_sigmoid, labels)\n",
    "loss"
   ]
  },
  {
   "cell_type": "code",
   "execution_count": 9,
   "id": "e74b88fd-4799-4d00-86b0-b2081856f4f8",
   "metadata": {},
   "outputs": [
    {
     "name": "stdout",
     "output_type": "stream",
     "text": [
      "Binary Cross Entropy Loss: 0.5815359354019165\n",
      "Gradients: tensor([ 0.0988, -0.0787, -0.0679,  0.0920,  0.1002])\n"
     ]
    }
   ],
   "source": [
    "import torch\n",
    "import torch.nn.functional as F\n",
    "\n",
    "logits = torch.tensor([-0.025, 0.4325, 0.665, -0.1594, 0.0043], dtype=torch.float, requires_grad=True)\n",
    "labels = torch.tensor([0, 1, 1, 0, 0], dtype=torch.float)\n",
    "\n",
    "# Using BCEWithLogitsLoss\n",
    "criterion = torch.nn.BCEWithLogitsLoss()\n",
    "loss = criterion(logits, labels)\n",
    "print(\"Binary Cross Entropy Loss:\", loss.item())\n",
    "\n",
    "# Backward pass\n",
    "loss.backward()\n",
    "\n",
    "# Accessing gradients\n",
    "gradients = logits.grad\n",
    "print(\"Gradients:\", gradients)\n"
   ]
  },
  {
   "cell_type": "code",
   "execution_count": 10,
   "id": "7de63863-de8c-4192-952e-d9f73f0bacee",
   "metadata": {},
   "outputs": [
    {
     "name": "stdout",
     "output_type": "stream",
     "text": [
      "tensor([0.4938, 0.6065, 0.6604, 0.4602, 0.5011], grad_fn=<SigmoidBackward0>)\n",
      "Binary Cross Entropy Loss: 0.5815359354019165\n",
      "losss:  tensor(0.5815, grad_fn=<BinaryCrossEntropyBackward0>)\n",
      "Gradients: tensor([ 0.0988, -0.0787, -0.0679,  0.0920,  0.1002])\n"
     ]
    }
   ],
   "source": [
    "import torch\n",
    "import torch.nn.functional as F\n",
    "\n",
    "logits = torch.tensor([-0.025, 0.4325, 0.665, -0.1594, 0.0043], dtype=torch.float, requires_grad=True)\n",
    "labels = torch.tensor([0, 1, 1, 0, 0], dtype=torch.float)\n",
    "\n",
    "logits_sigmoid = torch.sigmoid(logits)\n",
    "print(logits_sigmoid)\n",
    "\n",
    "loss = F.binary_cross_entropy(logits_sigmoid, labels)\n",
    "print(\"Binary Cross Entropy Loss:\", loss.item())\n",
    "\n",
    "# Backward pass\n",
    "loss.backward()\n",
    "print('losss: ', loss)\n",
    "# Accessing gradients\n",
    "gradients = logits.grad\n",
    "print(\"Gradients:\", gradients)\n"
   ]
  },
  {
   "cell_type": "code",
   "execution_count": 11,
   "id": "665aec0a-316d-492c-811b-f595f99c7348",
   "metadata": {},
   "outputs": [
    {
     "data": {
      "text/plain": [
       "tensor([ 0.4938, -0.3935, -0.3396,  0.4602,  0.5011], grad_fn=<SubBackward0>)"
      ]
     },
     "execution_count": 11,
     "metadata": {},
     "output_type": "execute_result"
    }
   ],
   "source": [
    "gradients_manual = 1 / (1 + torch.exp(-logits)) - labels\n",
    "gradients_manual"
   ]
  },
  {
   "cell_type": "code",
   "execution_count": 12,
   "id": "8a3ab142-6dd1-4d32-9d2a-a4a82c1847f9",
   "metadata": {},
   "outputs": [],
   "source": [
    "def sigt(logit):\n",
    "    return 1 / (1 + math.exp(-logit))"
   ]
  },
  {
   "cell_type": "code",
   "execution_count": 13,
   "id": "3b9f14ac-ef84-4abd-82eb-8547c1b7ba80",
   "metadata": {},
   "outputs": [],
   "source": [
    "# def forward(lbl, pre):\n",
    "#     rs = -lbl*math.log(pre) -(1-lbl)*math.log(1-pre)\n",
    "#     print(rs)\n",
    "#     return rs"
   ]
  },
  {
   "cell_type": "code",
   "execution_count": 14,
   "id": "2cd5d301-ae38-47f6-93b9-b19c3651e5c0",
   "metadata": {},
   "outputs": [],
   "source": [
    "# ave = 0\n",
    "# for i in range(len(logits)):\n",
    "#     ave += forward(labels[i], logits_sigmoid[i])\n",
    "# ave/5"
   ]
  },
  {
   "cell_type": "code",
   "execution_count": 15,
   "id": "6525fbf5-6158-44a0-a4bb-499cf6e254e7",
   "metadata": {},
   "outputs": [],
   "source": [
    "def backward(y_true, y_pred):\n",
    "    rs = y_true*(y_pred-1) + (1-y_true)*(y_pred)\n",
    "    return rs\n",
    "\n",
    "# Gradients: tensor([ 0.0988, -0.0787, -0.0679,  0.0920,  0.1002])"
   ]
  },
  {
   "cell_type": "code",
   "execution_count": 16,
   "id": "782c48c7-b7f5-4a1f-a74f-04c578a0f055",
   "metadata": {},
   "outputs": [
    {
     "name": "stdout",
     "output_type": "stream",
     "text": [
      "0.09876\n",
      "-0.07869999999999999\n",
      "-0.06792000000000001\n",
      "0.09204\n",
      "0.10022\n"
     ]
    }
   ],
   "source": [
    "fd = [ 0.4938, 0.6065, 0.6604, 0.4602, 0.5011]\n",
    "lbl =  [0, 1, 1, 0, 0]\n",
    "\n",
    "devi = 0\n",
    "for i in range(len(fd)):\n",
    "    h =  backward(lbl[i], fd[i])\n",
    "    devi += h\n",
    "    print(h/5)"
   ]
  },
  {
   "cell_type": "code",
   "execution_count": 17,
   "id": "3c27b7b3-381b-4247-a991-fba1419288eb",
   "metadata": {},
   "outputs": [],
   "source": [
    "ad = np.array([0.4938, 0.6065, 0.6604, 0.4602, 0.5011])\n",
    "af = np.array([ 0.4938, -0.3935, -0.3396,  0.4602,  0.5011])"
   ]
  },
  {
   "cell_type": "code",
   "execution_count": 18,
   "id": "a31b9a37-f072-428a-b6b7-197b0e92cba9",
   "metadata": {},
   "outputs": [],
   "source": [
    "# import numpy as np\n",
    "# import matplotlib.pyplot as plt\n",
    "\n",
    "# # Hàm Binary Cross Entropy (BCE)\n",
    "# def binary_cross_entropy(y_true, y_pred):\n",
    "#     epsilon = 1e-15\n",
    "#     y_pred = np.clip(y_pred, epsilon, 1 - epsilon)\n",
    "#     return - (y_true * np.log(y_pred) + (1 - y_true) * np.log(1 - y_pred))\n",
    "\n",
    "# # Đạo hàm của BCE theo tham số y_pred\n",
    "# def bce_gradient(y_true, y_pred):\n",
    "#     epsilon = 1e-15\n",
    "#     y_pred = np.clip(y_pred, epsilon, 1 - epsilon)\n",
    "#     return - (y_true / y_pred - (1 - y_true) / (1 - y_pred))\n",
    "\n",
    "# # Quá trình gradient descent\n",
    "# def gradient_descent(y_true, learning_rate=0.1, epochs=50):\n",
    "#     y_pred = 0.5  # Giả sử giá trị dự đoán ban đầu\n",
    "#     bce_values = []\n",
    "\n",
    "#     for epoch in range(epochs):\n",
    "#         bce = binary_cross_entropy(y_true, y_pred)\n",
    "#         gradient = bce_gradient(y_true, y_pred)\n",
    "#         y_pred -= learning_rate * gradient  # Cập nhật tham số\n",
    "\n",
    "#         bce_values.append(bce.mean())\n",
    "\n",
    "#     return bce_values\n",
    "\n",
    "# # Tạo dữ liệu giả lập\n",
    "# y_true = np.array([1, 0, 1, 0, 1])\n",
    "# learning_rate = 0.1\n",
    "# epochs = 30\n",
    "\n",
    "# # Thực hiện quá trình gradient descent\n",
    "# bce_values = gradient_descent(y_true, learning_rate, epochs)\n",
    "\n",
    "# # Vẽ đồ thị\n",
    "# plt.plot(range(epochs), bce_values, label='Binary Cross Entropy')\n",
    "# plt.title('Gradient Descent on Binary Cross Entropy')\n",
    "# plt.xlabel('Epoch')\n",
    "# plt.ylabel('Binary Cross Entropy Value')\n",
    "# plt.legend()\n",
    "# plt.show()\n"
   ]
  },
  {
   "cell_type": "code",
   "execution_count": 19,
   "id": "e17cbef9-cb28-4277-b5d8-7f2df8cf868b",
   "metadata": {},
   "outputs": [
    {
     "name": "stdout",
     "output_type": "stream",
     "text": [
      "tensor([0.4938, 0.6065, 0.6604, 0.4602, 0.5011], grad_fn=<SigmoidBackward0>)\n",
      "Binary Cross Entropy Loss: 0.5815359354019165\n",
      "Gradients: tensor([ 0.0988, -0.0787, -0.0679,  0.0920,  0.1002])\n"
     ]
    }
   ],
   "source": [
    "import torch\n",
    "import torch.nn.functional as F\n",
    "\n",
    "logits = torch.tensor([-0.025, 0.4325, 0.665, -0.1594, 0.0043], dtype=torch.float, requires_grad=True)\n",
    "labels = torch.tensor([0, 1, 1, 0, 0], dtype=torch.float)\n",
    "\n",
    "logits_sigmoid = torch.sigmoid(logits)\n",
    "print(logits_sigmoid)\n",
    "\n",
    "loss = F.binary_cross_entropy(logits_sigmoid, labels)\n",
    "print(\"Binary Cross Entropy Loss:\", loss.item())\n",
    "# print(\"Binary Cross Entropy Loss:\", loss)\n",
    "\n",
    "loss.backward()\n",
    "\n",
    "gradients = logits.grad\n",
    "print(\"Gradients:\", gradients)"
   ]
  },
  {
   "cell_type": "code",
   "execution_count": 20,
   "id": "763edc97-90be-4fb1-845c-1b614fa3b571",
   "metadata": {},
   "outputs": [],
   "source": [
    "logits = torch.tensor([-0.025, 0.4325, 0.665, -0.1594, 0.0043], requires_grad=True)\n",
    "labels = torch.tensor([0., 1., 1., 0., 0.])"
   ]
  },
  {
   "cell_type": "code",
   "execution_count": 21,
   "id": "1ac55398-6aa2-4e94-b3b4-1674260d8757",
   "metadata": {},
   "outputs": [
    {
     "name": "stdout",
     "output_type": "stream",
     "text": [
      "tensor([0.6807, 0.5001, 0.4149, 0.6166, 0.6953],\n",
      "       grad_fn=<BinaryCrossEntropyWithLogitsBackward0>)\n",
      "tensor([0.5062, 0.6065, 0.6604, 0.5398, 0.4989], grad_fn=<ExpBackward0>)\n",
      "tensor(0.1193, grad_fn=<MeanBackward0>)\n"
     ]
    }
   ],
   "source": [
    "gamma = 2.0\n",
    "logits_sigmoid = torch.sigmoid(logits)\n",
    "\n",
    "ce_loss = F.binary_cross_entropy_with_logits(logits, labels, reduction='none')\n",
    "print(ce_loss)\n",
    "\n",
    "pt = torch.exp(-ce_loss)\n",
    "print(pt)\n",
    "loss = (1 - pt) ** gamma * ce_loss\n",
    "print(loss.mean())"
   ]
  },
  {
   "cell_type": "code",
   "execution_count": 22,
   "id": "923cfa45-b851-4311-a968-c1a707376cfb",
   "metadata": {},
   "outputs": [
    {
     "name": "stderr",
     "output_type": "stream",
     "text": [
      "2024-03-01 10:53:05.748285: W tensorflow/stream_executor/platform/default/dso_loader.cc:64] Could not load dynamic library 'libcudart.so.11.0'; dlerror: libcudart.so.11.0: cannot open shared object file: No such file or directory\n",
      "2024-03-01 10:53:05.748305: I tensorflow/stream_executor/cuda/cudart_stub.cc:29] Ignore above cudart dlerror if you do not have a GPU set up on your machine.\n"
     ]
    },
    {
     "name": "stdout",
     "output_type": "stream",
     "text": [
      "[0.166 0.077 0.048 0.131 0.175]\n"
     ]
    },
    {
     "name": "stderr",
     "output_type": "stream",
     "text": [
      "2024-03-01 10:53:07.416807: W tensorflow/stream_executor/platform/default/dso_loader.cc:64] Could not load dynamic library 'libcuda.so.1'; dlerror: libcuda.so.1: cannot open shared object file: No such file or directory\n",
      "2024-03-01 10:53:07.416825: W tensorflow/stream_executor/cuda/cuda_driver.cc:269] failed call to cuInit: UNKNOWN ERROR (303)\n",
      "2024-03-01 10:53:07.416841: I tensorflow/stream_executor/cuda/cuda_diagnostics.cc:156] kernel driver does not appear to be running on this host (PC-100915): /proc/driver/nvidia/version does not exist\n",
      "2024-03-01 10:53:07.417120: I tensorflow/core/platform/cpu_feature_guard.cc:151] This TensorFlow binary is optimized with oneAPI Deep Neural Network Library (oneDNN) to use the following CPU instructions in performance-critical operations:  AVX2 FMA\n",
      "To enable them in other operations, rebuild TensorFlow with the appropriate compiler flags.\n"
     ]
    }
   ],
   "source": [
    "import numpy as np\n",
    "from focal_loss import binary_focal_loss\n",
    "loss = binary_focal_loss([0,1,1,0,0],  [0.4938, 0.6065, 0.6604, 0.4602, 0.5011], gamma=2)\n",
    "np.set_printoptions(precision=3)\n",
    "print(loss.numpy())"
   ]
  },
  {
   "cell_type": "code",
   "execution_count": 10,
   "id": "d1967771-e1db-4f68-837b-fff9a1635e4a",
   "metadata": {},
   "outputs": [
    {
     "name": "stdout",
     "output_type": "stream",
     "text": [
      "tensor(0.1193, grad_fn=<MeanBackward0>)\n"
     ]
    },
    {
     "data": {
      "text/plain": [
       "tensor([ 0.0577, -0.0310, -0.0205,  0.0477,  0.0600])"
      ]
     },
     "execution_count": 10,
     "metadata": {},
     "output_type": "execute_result"
    }
   ],
   "source": [
    "# keep\n",
    "import torch\n",
    "logits = torch.tensor([-0.025, 0.4325, 0.665, -0.1594, 0.0043], requires_grad=True)\n",
    "labels = torch.tensor([0., 1., 1., 0., 0.])\n",
    "def forward(logits, labels):\n",
    "        ''' \n",
    "        Forward pass for Focal Loss.\n",
    "\n",
    "        Args:\n",
    "            outputs (torch.Tensor): Raw outputs from the model.\n",
    "            labels (torch.Tensor): True labels.\n",
    "\n",
    "        Returns:\n",
    "            torch.Tensor: Computed Focal Loss.\n",
    "        '''\n",
    "        gamma=2\n",
    "        logits_sigmoid = torch.sigmoid(logits)\n",
    "        logits_flat = logits_sigmoid.view(-1)\n",
    "        labels_flat = labels.view(-1)\n",
    "        \n",
    "        loss = -((1 - logits_flat) ** gamma) * labels_flat * torch.log(logits_flat) - (1 - labels_flat) * (logits_flat ** gamma) * torch.log(1 - logits_flat)\n",
    "        return loss.mean()\n",
    "d=forward(logits, labels)\n",
    "print(d)\n",
    "d.backward()\n",
    "gradients = logits.grad\n",
    "gradients"
   ]
  },
  {
   "cell_type": "code",
   "execution_count": 97,
   "id": "b37009fd-dcc5-42e5-aeb9-3b1ed53298bb",
   "metadata": {},
   "outputs": [
    {
     "data": {
      "image/png": "[encoded data removed]",
      "text/plain": [
       "<Figure size 720x432 with 1 Axes>"
      ]
     },
     "metadata": {
      "needs_background": "light"
     },
     "output_type": "display_data"
    }
   ],
   "source": [
    "import numpy as np\n",
    "import matplotlib.pyplot as plt\n",
    "\n",
    "def focal_loss(pt, gamma):\n",
    "    return -(1 - pt) ** gamma * np.log(pt)\n",
    "\n",
    "pt_values = np.linspace(0.01, 1, 100)\n",
    "gamma_values = [0, 1.0, 1.5, 2.0, 2.5]  # list of Gamma values for check\n",
    "\n",
    "plt.figure(figsize=(10, 6))\n",
    "\n",
    "for gamma in gamma_values:\n",
    "    focal_loss_values = focal_loss(pt_values, gamma)\n",
    "    plt.plot(pt_values, focal_loss_values, label=f'Gamma = {gamma}')\n",
    "\n",
    "plt.title('Overview for Different Gamma Values')\n",
    "plt.xlabel('f(Q(x)) - Predicted Probability')\n",
    "plt.ylabel('Focal Loss')\n",
    "plt.legend()\n",
    "plt.grid(True)\n",
    "plt.show()\n"
   ]
  },
  {
   "cell_type": "code",
   "execution_count": 22,
   "id": "51e30354-a079-4672-802a-802241767e34",
   "metadata": {},
   "outputs": [
    {
     "name": "stdout",
     "output_type": "stream",
     "text": [
      "sigmoid_logits:  tensor([0.4938, 0.6065, 0.6604, 0.4602, 0.5011])\n",
      "smooth_labels:  tensor([0.0600, 0.7600, 0.7600, 0.0600, 0.0600])\n",
      "log_probs:  tensor([-0.7057, -0.5001, -0.4149, -0.7760, -0.6910])\n",
      "tensor(3.1819)\n"
     ]
    },
    {
     "data": {
      "text/plain": [
       "tensor(0.6364)"
      ]
     },
     "execution_count": 22,
     "metadata": {},
     "output_type": "execute_result"
    }
   ],
   "source": [
    "# Label Smoothing Loss\n",
    "\n",
    "labels = torch.tensor([0,1,1,0,0], dtype=torch.float)\n",
    "logits = torch.tensor([-0.025, 0.4325, 0.665, -0.1594, 0.0043], dtype=torch.float)\n",
    "\n",
    "smoothing = 0.3\n",
    "\n",
    "def forward(logits, labels):\n",
    "    sigmoid_logits = torch.sigmoid(logits)\n",
    "    print('sigmoid_logits: ', sigmoid_logits)\n",
    "\n",
    "    smooth_labels = (1.0 - smoothing) * labels + (smoothing / 5.0)\n",
    "    print('smooth_labels: ', smooth_labels)\n",
    "    \n",
    "    log_probs = torch.log(sigmoid_logits)\n",
    "    print('log_probs: ', log_probs)\n",
    "\n",
    "    loss = -torch.sum(smooth_labels * log_probs + (1.0 - smooth_labels) * torch.log(1.0 - sigmoid_logits))\n",
    "    print(loss)\n",
    "    return loss / logits.size(0)\n",
    "\n",
    "loss = forward(logits, labels)\n",
    "loss"
   ]
  },
  {
   "cell_type": "code",
   "execution_count": 39,
   "id": "e30552b7-e01e-4fa1-ad06-dc26e65e0c53",
   "metadata": {},
   "outputs": [
    {
     "name": "stdout",
     "output_type": "stream",
     "text": [
      "sm_labels:  tensor([0.0600, 0.7600, 0.7600, 0.0600, 0.0600])\n",
      "Combined Loss: tensor([0.1668, 0.1412, 0.1494, 0.1363, 0.1744])\n"
     ]
    }
   ],
   "source": [
    "import torch\n",
    "\n",
    "labels = torch.tensor([0, 1, 1, 0, 0], dtype=torch.float)\n",
    "logits = torch.tensor([-0.025, 0.4325, 0.665, -0.1594, 0.0043], dtype=torch.float)\n",
    "smoothing = 0.3\n",
    "\n",
    "\n",
    "def forward(logits, labels):\n",
    "    ''' \n",
    "    Forward pass for Label Smoothing + Focal Loss.\n",
    "\n",
    "    Args:\n",
    "        logits (torch.Tensor): Logits predicted by the model.\n",
    "        labels (torch.Tensor): True labels.\n",
    "\n",
    "    Returns:\n",
    "        torch.Tensor: Computed Label Smoothing + Focal Loss.\n",
    "    '''\n",
    "\n",
    "    gamma = 2\n",
    "    epsilon = 0.3\n",
    "\n",
    "    sm_labels = (1 - epsilon) * labels + (epsilon / 5)\n",
    "    print('sm_labels: ', sm_labels)\n",
    "\n",
    "    logits_sigmoid = torch.sigmoid(logits)\n",
    "    log_probs = torch.log(logits_sigmoid)\n",
    "    logits_flat = logits_sigmoid.view(-1)\n",
    "    labels_flat = sm_labels.view(-1)\n",
    "\n",
    "    # Focal Loss components\n",
    "    pos_loss = -((1 - logits_flat) ** gamma) * labels_flat * torch.log(logits_flat)\n",
    "    neg_loss = -((logits_flat) ** gamma) * (1 - labels_flat) * torch.log(1 - logits_flat)\n",
    "\n",
    "    # Combine Focal Loss components\n",
    "    loss = pos_loss + neg_loss\n",
    "\n",
    "    return loss.mean()\n",
    "\n",
    "# Example usage\n",
    "loss = forward(logits, labels)\n",
    "print('Combined Loss:', loss)\n"
   ]
  },
  {
   "cell_type": "code",
   "execution_count": 33,
   "id": "6af74693-9e8a-4420-9d38-2681ac5a0480",
   "metadata": {},
   "outputs": [
    {
     "ename": "AttributeError",
     "evalue": "module 'torch.nn.functional' has no attribute 'binary_focal_loss'",
     "output_type": "error",
     "traceback": [
      "\u001b[0;31m---------------------------------------------------------------------------\u001b[0m",
      "\u001b[0;31mAttributeError\u001b[0m                            Traceback (most recent call last)",
      "Input \u001b[0;32mIn [33]\u001b[0m, in \u001b[0;36m<cell line: 25>\u001b[0;34m()\u001b[0m\n\u001b[1;32m     23\u001b[0m     loss_func \u001b[38;5;241m=\u001b[39m F\u001b[38;5;241m.\u001b[39mbinary_focal_loss(torch\u001b[38;5;241m.\u001b[39msigmoid(logits), smoothed_labels, gamma\u001b[38;5;241m=\u001b[39mgamma, alpha\u001b[38;5;241m=\u001b[39malpha, reduction\u001b[38;5;241m=\u001b[39m\u001b[38;5;124m'\u001b[39m\u001b[38;5;124mmean\u001b[39m\u001b[38;5;124m'\u001b[39m)\n\u001b[1;32m     24\u001b[0m     \u001b[38;5;28;01mreturn\u001b[39;00m loss_func\n\u001b[0;32m---> 25\u001b[0m \u001b[38;5;28mprint\u001b[39m(\u001b[43mfocal_loss\u001b[49m\u001b[43m(\u001b[49m\u001b[43mlogits\u001b[49m\u001b[43m,\u001b[49m\u001b[43m \u001b[49m\u001b[43mlabels\u001b[49m\u001b[43m)\u001b[49m)\n",
      "Input \u001b[0;32mIn [33]\u001b[0m, in \u001b[0;36mfocal_loss\u001b[0;34m(logits, labels, gamma, alpha)\u001b[0m\n\u001b[1;32m     20\u001b[0m smoothing \u001b[38;5;241m=\u001b[39m \u001b[38;5;241m0.3\u001b[39m  \u001b[38;5;66;03m# Define smoothing factor\u001b[39;00m\n\u001b[1;32m     21\u001b[0m smoothed_labels \u001b[38;5;241m=\u001b[39m (\u001b[38;5;241m1\u001b[39m \u001b[38;5;241m-\u001b[39m smoothing) \u001b[38;5;241m*\u001b[39m labels \u001b[38;5;241m+\u001b[39m smoothing \u001b[38;5;241m/\u001b[39m \u001b[38;5;28mlen\u001b[39m(labels\u001b[38;5;241m.\u001b[39munique())\n\u001b[0;32m---> 23\u001b[0m loss_func \u001b[38;5;241m=\u001b[39m \u001b[43mF\u001b[49m\u001b[38;5;241;43m.\u001b[39;49m\u001b[43mbinary_focal_loss\u001b[49m(torch\u001b[38;5;241m.\u001b[39msigmoid(logits), smoothed_labels, gamma\u001b[38;5;241m=\u001b[39mgamma, alpha\u001b[38;5;241m=\u001b[39malpha, reduction\u001b[38;5;241m=\u001b[39m\u001b[38;5;124m'\u001b[39m\u001b[38;5;124mmean\u001b[39m\u001b[38;5;124m'\u001b[39m)\n\u001b[1;32m     24\u001b[0m \u001b[38;5;28;01mreturn\u001b[39;00m loss_func\n",
      "\u001b[0;31mAttributeError\u001b[0m: module 'torch.nn.functional' has no attribute 'binary_focal_loss'"
     ]
    }
   ],
   "source": [
    "import torch.nn.functional as F\n",
    "\n",
    "labels = torch.tensor([0,1,1,0,0], dtype=torch.float)\n",
    "logits = torch.tensor([-0.025, 0.4325, 0.665, -0.1594, 0.0043], dtype=torch.float)\n",
    "smoothing = 0.3\n",
    "\n",
    "def focal_loss(logits, labels, gamma=2.0, alpha=0.3):\n",
    "    \"\"\"\n",
    "    Computes focal loss with label smoothing.\n",
    "\n",
    "    Args:\n",
    "    logits: Logits tensor (unnormalized outputs from the model).\n",
    "    labels: Ground truth labels tensor.\n",
    "    gamma: Focusing parameter (controls the degree of down-weighting).\n",
    "    alpha: Balancing factor (balances positive vs. negative class weighting).\n",
    "\n",
    "    Returns:\n",
    "    Focal loss tensor.\n",
    "    \"\"\"\n",
    "    smoothing = 0.3  # Define smoothing factor\n",
    "    smoothed_labels = (1 - smoothing) * labels + smoothing / len(labels.unique())\n",
    "\n",
    "    loss_func = F.binary_focal_loss(torch.sigmoid(logits), smoothed_labels, gamma=gamma, alpha=alpha, reduction='mean')\n",
    "    return loss_func\n",
    "print(focal_loss(logits, labels))"
   ]
  },
  {
   "cell_type": "code",
   "execution_count": null,
   "id": "8e1f6ea5-e01e-446b-8e37-cf0b2bae0b32",
   "metadata": {},
   "outputs": [],
   "source": []
  },
  {
   "cell_type": "code",
   "execution_count": 115,
   "id": "198f9f2c-1e6e-4732-b004-c0c5fc546449",
   "metadata": {},
   "outputs": [
    {
     "data": {
      "image/png": "[encoded data removed]",
      "text/plain": [
       "<Figure size 864x576 with 5 Axes>"
      ]
     },
     "metadata": {
      "needs_background": "light"
     },
     "output_type": "display_data"
    }
   ],
   "source": [
    "import numpy as np\n",
    "import matplotlib.pyplot as plt\n",
    "\n",
    "\n",
    "\n",
    "def smoothed_focal_loss(pt, gamma, epsilon=0.3):\n",
    "    return -(1 - epsilon) * (1 - pt) ** gamma * np.log(pt + 1e-20) - epsilon * (1 - pt) ** gamma * np.log(1 - pt + 1e-20)\n",
    "\n",
    "pt_values = np.linspace(0.01, 1, 100)\n",
    "gamma_values = [0, 1.0, 1.5, 2.0, 2.5]  # list of Gamma values for check\n",
    "epsilon = -0.3  # Smoothing epsilon\n",
    "\n",
    "plt.figure(figsize=(12, 8))\n",
    "\n",
    "for i, gamma in enumerate(gamma_values, 1):\n",
    "    plt.subplot(2, 3, i)\n",
    "    focal_loss_values = focal_loss(pt_values, gamma)\n",
    "    smoothed_focal_loss_values = smoothed_focal_loss(pt_values, gamma, epsilon)\n",
    "    plt.plot(pt_values, focal_loss_values, label=f'Gamma = {gamma} (Original)')\n",
    "    plt.plot(pt_values, smoothed_focal_loss_values, label=f'Gamma = {gamma} (Smoothed)')\n",
    "    plt.title(f'Gamma = {gamma}')\n",
    "    plt.xlabel('f(Q(x)) - Predicted Probability')\n",
    "    plt.ylabel('Focal Loss')\n",
    "    plt.legend()\n",
    "\n",
    "plt.tight_layout()\n",
    "plt.show()\n"
   ]
  },
  {
   "cell_type": "code",
   "execution_count": 1,
   "id": "51ce6173-425e-4457-b3b5-83349f23a213",
   "metadata": {},
   "outputs": [
    {
     "name": "stdout",
     "output_type": "stream",
     "text": [
      "Label Neoplasms - TP: 2, FP: 2, FN: 1\n",
      "Label Digestive system diseases - TP: 2, FP: 2, FN: 2\n",
      "Label Nervous system diseases - TP: 1, FP: 0, FN: 1\n",
      "Label Cardiovascular diseases - TP: 1, FP: 2, FN: 1\n",
      "Label General pathological conditions - TP: 2, FP: 0, FN: 0\n",
      "Micro F1 Score: 0.78\n",
      "Macro F1 Score: 0.7209538305428718\n"
     ]
    }
   ],
   "source": [
    "from sklearn.metrics import multilabel_confusion_matrix\n",
    "\n",
    "# True labels\n",
    "true_labels = [\n",
    "    [1, 0, 0, 0, 0],\n",
    "    [0, 1, 0, 0, 0],\n",
    "    [0, 0, 1, 0, 0],\n",
    "    [1, 0, 0, 0, 1],\n",
    "    [1, 0, 0, 0, 0],\n",
    "    [0, 1, 1, 0, 0],\n",
    "    [0, 1, 0, 0, 0],\n",
    "    [0, 0, 0, 1, 1],\n",
    "    [0, 1, 0, 0, 0],\n",
    "    [0, 0, 0, 1, 0]]\n",
    "\n",
    "# Predicted labels\n",
    "predicted_labels = [\n",
    "    [1, 1, 0, 0, 0],\n",
    "    [0, 1, 0, 1, 0],\n",
    "    [0, 0, 1, 0, 0],\n",
    "    [1, 0, 0, 0, 1],\n",
    "    [0, 0, 0, 1, 0],\n",
    "    [1, 0, 0, 0, 0],\n",
    "    [1, 0, 0, 0, 0],\n",
    "    [0, 1, 0, 0, 1],\n",
    "    [0, 1, 0, 0, 0],\n",
    "    [0, 0, 0, 1, 0]]\n",
    "\n",
    "# Calculate confusion matrices\n",
    "confusion_matrices = multilabel_confusion_matrix(true_labels, predicted_labels)\n",
    "\n",
    "# Display TP, FP, FN for each label\n",
    "dq = ['Neoplasms', 'Digestive system diseases', 'Nervous system diseases', 'Cardiovascular diseases', 'General pathological conditions']\n",
    "for i, confusion_matrix in enumerate(confusion_matrices):\n",
    "    label_name = f\"Label {dq[i]}\"\n",
    "    tp = confusion_matrix[1, 1]\n",
    "    fp = confusion_matrix[0, 1]\n",
    "    fn = confusion_matrix[1, 0]\n",
    "\n",
    "    print(f\"{label_name} - TP: {tp}, FP: {fp}, FN: {fn}\")\n",
    "\n",
    "    from sklearn.metrics import f1_score, precision_score, recall_score\n",
    "\n",
    "# Flatten true and predicted labels\n",
    "flat_true_labels = [label for sublist in true_labels for label in sublist]\n",
    "flat_predicted_labels = [label for sublist in predicted_labels for label in sublist]\n",
    "\n",
    "# Calculate micro F1 score\n",
    "micro_f1 = f1_score(flat_true_labels, flat_predicted_labels, average='micro')\n",
    "\n",
    "# Calculate macro F1 score\n",
    "macro_f1 = f1_score(flat_true_labels, flat_predicted_labels, average='macro')\n",
    "\n",
    "print(f\"Micro F1 Score: {micro_f1}\")\n",
    "print(f\"Macro F1 Score: {macro_f1}\")\n"
   ]
  },
  {
   "cell_type": "code",
   "execution_count": null,
   "id": "3703eb89-4226-45f2-9b1b-e1e27b725bb9",
   "metadata": {},
   "outputs": [],
   "source": []
  }
 ],
 "metadata": {
  "kernelspec": {
   "display_name": "Python 3 (ipykernel)",
   "language": "python",
   "name": "python3"
  },
  "language_info": {
   "codemirror_mode": {
    "name": "ipython",
    "version": 3
   },
   "file_extension": ".py",
   "mimetype": "text/x-python",
   "name": "python",
   "nbconvert_exporter": "python",
   "pygments_lexer": "ipython3",
   "version": "3.8.13"
  }
 },
 "nbformat": 4,
 "nbformat_minor": 5
}
