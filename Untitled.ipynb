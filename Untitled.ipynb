{
 "cells": [
  {
   "cell_type": "code",
   "execution_count": 1,
   "id": "91867718-c283-4d96-8f6a-ae227b2f5cee",
   "metadata": {},
   "outputs": [
    {
     "name": "stderr",
     "output_type": "stream",
     "text": [
      "[nltk_data] Downloading package stopwords to /home/dev/nltk_data...\n",
      "[nltk_data]   Package stopwords is already up-to-date!\n"
     ]
    },
    {
     "data": {
      "text/html": [
       "        <script type=\"text/javascript\">\n",
       "        window.PlotlyConfig = {MathJaxConfig: 'local'};\n",
       "        if (window.MathJax && window.MathJax.Hub && window.MathJax.Hub.Config) {window.MathJax.Hub.Config({SVG: {font: \"STIX-Web\"}});}\n",
       "        if (typeof require !== 'undefined') {\n",
       "        require.undef(\"plotly\");\n",
       "        requirejs.config({\n",
       "            paths: {\n",
       "                'plotly': ['https://cdn.plot.ly/plotly-2.16.1.min']\n",
       "            }\n",
       "        });\n",
       "        require(['plotly'], function(Plotly) {\n",
       "            window._Plotly = Plotly;\n",
       "        });\n",
       "        }\n",
       "        </script>\n",
       "        "
      ]
     },
     "metadata": {},
     "output_type": "display_data"
    }
   ],
   "source": [
    "%run utils.ipynb\n",
    "\n",
    "import pandas as pd\n",
    "import numpy as np\n",
    "import re\n",
    "from tqdm import tqdm\n",
    "\n",
    "import matplotlib.pyplot as plt\n",
    "import plotly.graph_objs as go\n",
    "from fuzzywuzzy import fuzz\n",
    "\n",
    "import cufflinks\n",
    "cufflinks.go_offline()\n",
    "cufflinks.set_config_file(world_readable=True, theme='pearl')\n",
    "\n",
    "from sklearn.feature_extraction.text import CountVectorizer\n",
    "\n",
    "import nltk\n",
    "from nltk.corpus import stopwords\n",
    "from nltk.stem import PorterStemmer, WordNetLemmatizer"
   ]
  },
  {
   "cell_type": "code",
   "execution_count": 2,
   "id": "73091d05-1257-48fd-8a6b-111a06544e32",
   "metadata": {},
   "outputs": [
    {
     "data": {
      "text/plain": [
       "'when encount the word ‘ went , ’ the model , have learn pattern , predict the base form as ‘ go. ’ similarli , for ‘ happier , ’ the model deduc ‘ happi ’ as the lemma . the advantag lie in the model ’ s abil to adapt to vari linguist nuanc and handl irregular , make it robust for lemmat divers vocabulari .'"
      ]
     },
     "execution_count": 2,
     "metadata": {},
     "output_type": "execute_result"
    }
   ],
   "source": [
    "text = 'When encountering the word ‘went,’ the model, having learned patterns, predicts the base form as ‘go.’ Similarly, for ‘happier,’ the model deduces ‘happy’ as the lemma. The advantage lies in the model’s ability to adapt to varied linguistic nuances and handle irregularities, making it robust for lemmatizing diverse vocabularies.'\n",
    "st = stemming_lemma_reprocess(text)\n",
    "st"
   ]
  },
  {
   "cell_type": "code",
   "execution_count": 3,
   "id": "8b3baff3-de0c-4b43-ac9b-da3aec788cc2",
   "metadata": {},
   "outputs": [
    {
     "data": {
      "text/plain": [
       "'When encountering the word ‘ went , ’ the model , having learned pattern , predicts the base form a ‘ go. ’ Similarly , for ‘ happier , ’ the model deduces ‘ happy ’ a the lemma . The advantage lie in the model ’ s ability to adapt to varied linguistic nuance and handle irregularity , making it robust for lemmatizing diverse vocabulary .'"
      ]
     },
     "execution_count": 3,
     "metadata": {},
     "output_type": "execute_result"
    }
   ],
   "source": [
    "st = stemming_lemma_reprocess(text, type_select='lemma')\n",
    "st"
   ]
  },
  {
   "cell_type": "code",
   "execution_count": 4,
   "id": "79093a9d-687d-47ae-af9c-3546da90ebea",
   "metadata": {},
   "outputs": [
    {
     "data": {
      "text/html": [
       "<div>\n",
       "<style scoped>\n",
       "    .dataframe tbody tr th:only-of-type {\n",
       "        vertical-align: middle;\n",
       "    }\n",
       "\n",
       "    .dataframe tbody tr th {\n",
       "        vertical-align: top;\n",
       "    }\n",
       "\n",
       "    .dataframe thead th {\n",
       "        text-align: right;\n",
       "    }\n",
       "</style>\n",
       "<table border=\"1\" class=\"dataframe\">\n",
       "  <thead>\n",
       "    <tr style=\"text-align: right;\">\n",
       "      <th></th>\n",
       "      <th>condition_label</th>\n",
       "      <th>medical_abstract</th>\n",
       "    </tr>\n",
       "  </thead>\n",
       "  <tbody>\n",
       "    <tr>\n",
       "      <th>0</th>\n",
       "      <td>5</td>\n",
       "      <td>Tissue changes around loose prostheses. A cani...</td>\n",
       "    </tr>\n",
       "    <tr>\n",
       "      <th>1</th>\n",
       "      <td>1</td>\n",
       "      <td>Neuropeptide Y and neuron-specific enolase lev...</td>\n",
       "    </tr>\n",
       "    <tr>\n",
       "      <th>2</th>\n",
       "      <td>2</td>\n",
       "      <td>Sexually transmitted diseases of the colon, re...</td>\n",
       "    </tr>\n",
       "    <tr>\n",
       "      <th>3</th>\n",
       "      <td>1</td>\n",
       "      <td>Lipolytic factors associated with murine and h...</td>\n",
       "    </tr>\n",
       "    <tr>\n",
       "      <th>4</th>\n",
       "      <td>3</td>\n",
       "      <td>Does carotid restenosis predict an increased r...</td>\n",
       "    </tr>\n",
       "  </tbody>\n",
       "</table>\n",
       "</div>"
      ],
      "text/plain": [
       "   condition_label                                   medical_abstract\n",
       "0                5  Tissue changes around loose prostheses. A cani...\n",
       "1                1  Neuropeptide Y and neuron-specific enolase lev...\n",
       "2                2  Sexually transmitted diseases of the colon, re...\n",
       "3                1  Lipolytic factors associated with murine and h...\n",
       "4                3  Does carotid restenosis predict an increased r..."
      ]
     },
     "execution_count": 4,
     "metadata": {},
     "output_type": "execute_result"
    }
   ],
   "source": [
    "import pandas as pd\n",
    "\n",
    "df = pd.read_csv('../Medical-Abstracts-TC-Corpus/medical_tc_train.csv')\n",
    "df.head()"
   ]
  },
  {
   "cell_type": "code",
   "execution_count": 5,
   "id": "09241c57-9cae-494a-8b71-69547739fb57",
   "metadata": {},
   "outputs": [],
   "source": [
    "df_text = df['medical_abstract'].tolist()"
   ]
  },
  {
   "cell_type": "code",
   "execution_count": 6,
   "id": "51e23102-e2de-48bc-90eb-62eb5b78686e",
   "metadata": {},
   "outputs": [],
   "source": [
    "df_text = ' '.join(df_text)"
   ]
  },
  {
   "cell_type": "code",
   "execution_count": 7,
   "id": "ae71a173-5927-47ff-b79d-138e3803614f",
   "metadata": {},
   "outputs": [
    {
     "data": {
      "text/plain": [
       "['', 'PH);', 'near-diploid', 'suprabasilar', 'Interlocking']"
      ]
     },
     "execution_count": 7,
     "metadata": {},
     "output_type": "execute_result"
    }
   ],
   "source": [
    "df_text = list(set(df_text.split(' ')))\n",
    "df_text[:5]"
   ]
  },
  {
   "cell_type": "code",
   "execution_count": 8,
   "id": "e7d8e0e3-fa20-451c-a47d-000fb9fc7ba2",
   "metadata": {},
   "outputs": [
    {
     "data": {
      "text/plain": [
       "96222"
      ]
     },
     "execution_count": 8,
     "metadata": {},
     "output_type": "execute_result"
    }
   ],
   "source": [
    "len(df_text)"
   ]
  },
  {
   "cell_type": "code",
   "execution_count": 14,
   "id": "997bc8dd-aaea-4a62-9981-569fe2671515",
   "metadata": {},
   "outputs": [],
   "source": [
    "dd = [i for i in df_text if len(i)<4]"
   ]
  },
  {
   "cell_type": "code",
   "execution_count": 15,
   "id": "0c539960-86bf-4993-92eb-5998490c071b",
   "metadata": {},
   "outputs": [
    {
     "data": {
      "text/plain": [
       "5469"
      ]
     },
     "execution_count": 15,
     "metadata": {},
     "output_type": "execute_result"
    }
   ],
   "source": [
    "len(dd)"
   ]
  },
  {
   "cell_type": "code",
   "execution_count": 48,
   "id": "8be3f872-29d1-43dd-88c6-6a165512d7cf",
   "metadata": {},
   "outputs": [
    {
     "data": {
      "text/plain": [
       "True"
      ]
     },
     "execution_count": 48,
     "metadata": {},
     "output_type": "execute_result"
    }
   ],
   "source": [
    "'CI' in dd"
   ]
  },
  {
   "cell_type": "code",
   "execution_count": 52,
   "id": "982b2438-709d-4d74-aec4-d4e52e5aeba5",
   "metadata": {},
   "outputs": [
    {
     "data": {
      "text/plain": [
       "930"
      ]
     },
     "execution_count": 52,
     "metadata": {},
     "output_type": "execute_result"
    }
   ],
   "source": [
    "with open('Abbreviation_List_for_Medical_Record_Documentation.txt', 'r', encoding='utf-8') as rt:\n",
    "    ct = rt.read()\n",
    "    ct = ct.split('\\n')[1:]\n",
    "rt.close()\n",
    "len(ct)"
   ]
  },
  {
   "cell_type": "code",
   "execution_count": 58,
   "id": "70d829b1-acb5-4661-b55d-0847cad692d6",
   "metadata": {},
   "outputs": [],
   "source": [
    "words_to_keep = [f.lower() for f in ct]\n",
    "    \n",
    "stop_words = set(stopwords.words('english'))\n",
    "\n",
    "f = [j for j in words_to_keep if j in stop_words]"
   ]
  }
 ],
 "metadata": {
  "kernelspec": {
   "display_name": "Python 3 (ipykernel)",
   "language": "python",
   "name": "python3"
  },
  "language_info": {
   "codemirror_mode": {
    "name": "ipython",
    "version": 3
   },
   "file_extension": ".py",
   "mimetype": "text/x-python",
   "name": "python",
   "nbconvert_exporter": "python",
   "pygments_lexer": "ipython3",
   "version": "3.8.13"
  }
 },
 "nbformat": 4,
 "nbformat_minor": 5
}
